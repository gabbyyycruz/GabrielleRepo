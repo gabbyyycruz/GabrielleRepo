{
 "cells": [
  {
   "cell_type": "markdown",
   "metadata": {},
   "source": [
    "# ITMGT 25.03 EE\n",
    "### Quiz 1\n",
    "\n",
    "This quiz will be credited to Class Participation. It is over 20 points.\n",
    "\n",
    "Instructions:\n",
    "1. Answer the questions below in the code box below the question. Follow the question carefully to avoid unnecessary deductions. If the question asks for a function, provide a function; if it asks for your function to return, then return, not print.\n",
    "2. You are allowed to submit this quiz in groups of 4 (maximum). Indicate your names in the given cell below this instruction cell. You are allowed to answer the quiz with fewer people (or even individually), but this is not recommended for difficulty reasons.\n",
    "3. This quiz file should have been uploaded on 19 June 2019 from any time between 9:20 AM to 9:30 AM. It is due in the inbox of joben.ilagan@gmail.com at 11:10 AM **at the latest**. Any quiz file sent between 11:11 AM and 12:10 PM will have the final score slashed in half. Any quiz file sent after 12:10 PM will not be accepted.\n",
    "4. If Joe uploaded the file after 9:30, then all deadlines move back one hour.\n",
    "5. The file name should be: **GroupLeaderLastName_Quiz_1.ipynb**"
   ]
  },
  {
   "cell_type": "markdown",
   "metadata": {},
   "source": [
    "### Names:\n",
    "\n",
    "1. Gabrielle Cruz"
   ]
  },
  {
   "cell_type": "markdown",
   "metadata": {},
   "source": [
    "# 1a.\n",
    "### 3 points\n",
    "\n",
    "### Context\n",
    "\n",
    "The Caesar cipher is a very basic method of encrypting text. This is how to encrypt a message using the Caesar cipher:\n",
    "1. First, pick a message. \n",
    "2. Second, pick a number. \n",
    "3. Shift the alphabet right by the number that you chose.\n",
    "4. Replace each letter in the message with the new letter based on the shifted alphabet.\n",
    "\n",
    "For example, to encrypt \"ABC\" with the number 3, shift each letter right by 3. In this case, \"ABC\" becomes \"DEF\" because D comes 3 letters after A, E comes 3 letters after B, and F comes 3 letters after C. Letters near the end of the alphabet simply wrap around: \"WXYZ\" encrypted with the number 2 would yield the encrypted message \"YZAB\".\n",
    "\n",
    "\n",
    "### Required\n",
    "Write a function that takes a message (string) and a number (integer) as parameters and **returns** the encrypted message (string) based on the Caesar cipher.\n",
    "\n",
    "e.g. \n",
    "\n",
    "encrypt(\"MEAMORE\", 0) -> \"MEAMORE\"\n",
    "\n",
    "encrypt(\"MEAMORE\", 2) -> \"OGCOQTG\"\n",
    "\n",
    "### Constraints\n",
    "For simplicity, assume:\n",
    "1. There are no spaces in any of the strings.\n",
    "2. The numbers are always positive integers.\n",
    "3. All strings will only consist of capital letters."
   ]
  },
  {
   "cell_type": "code",
   "execution_count": 74,
   "metadata": {},
   "outputs": [
    {
     "data": {
      "text/plain": [
       "'OGCOQTG'"
      ]
     },
     "execution_count": 74,
     "metadata": {},
     "output_type": "execute_result"
    }
   ],
   "source": [
    "def encrypt(string, x):\n",
    "    return chr((ord(string[0])+x-65)%26+65)+chr((ord(string[1])+x-65)%26+65)+chr((ord(string[2])+x-65)%26+65)+chr((ord(string[3])+x-65)%26+65)+chr((ord(string[4])+x-65)%26+65)+chr((ord(string[5])+x-65)%26+65)+chr((ord(string[6])+x-65)%26+65)\n",
    "   \n",
    "# logic: \n",
    "    # 1. getting the numerical equivalent of a letter\n",
    "    # 2. adding x\n",
    "    # 3. getting the letter equivalent of the new number\n",
    "\n",
    "encrypt(\"MEAMORE\", 2)"
   ]
  },
  {
   "cell_type": "markdown",
   "metadata": {},
   "source": [
    "# 1b.\n",
    "### 2 points\n",
    "\n",
    "### Required\n",
    "Based on the way the Caesar cipher works, write a function that takes an encrypted message (string) and a number (integer) as parameters and **returns** the decrypted message (string).\n",
    "\n",
    "e.g.\n",
    "\n",
    "decrypt(\"OGCOQTG\", 2) -> \"MEAMORE\"\n",
    "\n",
    "### Constraints\n",
    "For simplicity, assume:\n",
    "1. There are no spaces in any of the strings.\n",
    "2. The numbers are always positive integers.\n",
    "3. All strings will only consist of capital letters.\n",
    "4. The number will not exceed 26."
   ]
  },
  {
   "cell_type": "code",
   "execution_count": 73,
   "metadata": {},
   "outputs": [
    {
     "data": {
      "text/plain": [
       "'KCYKMPC'"
      ]
     },
     "execution_count": 73,
     "metadata": {},
     "output_type": "execute_result"
    }
   ],
   "source": [
    "def encrypt(string, x):\n",
    "    return chr((ord(string[0])-x-65)%26+65)+chr((ord(string[1])-x-65)%26+65)+chr((ord(string[2])-x-65)%26+65)+chr((ord(string[3])-x-65)%26+65)+chr((ord(string[4])-x-65)%26+65)+chr((ord(string[5])-x-65)%26+65)+chr((ord(string[6])-x-65)%26+65)\n",
    "   \n",
    "# logic: \n",
    "    # 1. getting the numerical equivalent of a letter\n",
    "    # 2. subtracting x\n",
    "    # 3. getting the letter equivalent of the new number\n",
    "\n",
    "encrypt(\"MEAMORE\", 2)"
   ]
  },
  {
   "cell_type": "markdown",
   "metadata": {},
   "source": [
    "# 2\n",
    "\n",
    "### 5 points\n",
    "\n",
    "### Context\n",
    "\n",
    "The Caesar cipher is very easy to break. To remedy this, the Vigenère cipher was created as an extension to the Caesar cipher. This is how to encrypt a message based on the Vigenère cipher:\n",
    "1. Choose a message.\n",
    "2. Instead of choosing a number, choose a **keyword**. \n",
    "3. Repeat the keyword until the number of characters in the keyword matches the number of characters in the message.\n",
    "4. Shift each letter in the message right by the number value of the corresponding letter in the keyword.\n",
    "\n",
    "For example, to encrypt \"MEAMORE\" with the keyword \"UEDA\", first extend the keyword to match the length of the message. (In this case, the extended keyword would be \"UEDAUED\".) Now, shift each letter in \"MEAMORE\" by the number value of the corresponding letter in \"UEDAUED\" (for example, shift the first \"M\" 21 letters to the right because \"U\", the first letter in the keyword, is the 21st letter of the alphabet) to get \"GIDMIVH\" as the encrypted message.\n",
    "\n",
    "### Required\n",
    "Write a function that takes a message (string) and a keyword (string) as parameters and **returns** the Vigenère cipher encryption of the message.\n",
    "\n",
    "e.g.\n",
    "\n",
    "v_encrypt(\"ACCOUNTING\", \"SANEZ\") -> \"SCPSTFTVRF\"\n",
    "\n",
    "### Constraints\n",
    "For simplicity, assume:\n",
    "1. There are no spaces in any of the strings.\n",
    "2. The numbers are always positive integers.\n",
    "3. All strings will only consist of capital letters."
   ]
  },
  {
   "cell_type": "code",
   "execution_count": 72,
   "metadata": {},
   "outputs": [
    {
     "data": {
      "text/plain": [
       "'SCPSTFTVRF'"
      ]
     },
     "execution_count": 72,
     "metadata": {},
     "output_type": "execute_result"
    }
   ],
   "source": [
    "def vigEncrypt(message, key):\n",
    "    keyLength = len(key)\n",
    "    keyOrder = [ord(i) for i in key]\n",
    "    messageOrder = [ord(i) for i in message]\n",
    "    vigCipher = \"\"\n",
    "    for i in range(len(messageOrder)):\n",
    "        value = (messageOrder[i] + keyOrder[i % keyLength]) % 26\n",
    "        vigCipher += chr(value + 65)\n",
    "    return vigCipher\n",
    "\n",
    "vigEncrypt(\"ACCOUNTING\", \"SANEZ\")"
   ]
  },
  {
   "cell_type": "markdown",
   "metadata": {},
   "source": [
    "# 3\n",
    "### 5 points\n",
    "\n",
    "### Context\n",
    "Recall the concept of number system bases.\n",
    "\n",
    "\n",
    "You are most familiar with the decimal system, also known as base-10. Decimal has ten digits: \\[0, 1, 2, 3, 4, 5, 6, 7, 8, 9\\]. A decimal number such as \"425\" can be evaluated by separating its digits, multiplying each separated digit to its system's base raised to a certain exponent that is based on the digit's place in the number, then adding each resulting product back together. Illustrated:\n",
    "\n",
    "\n",
    "    # From decimal:\n",
    "    # 425 == (4 * 10**2) + (2 * 10**1) + (5 * 10**0) == 400 + 20 + 5 == 425\n",
    "\n",
    "### Required\n",
    "Write a function that takes three arguments: a number, its base, and the base to which it should be converted. The function should output the number in its new base. You need only consider bases 2 through 10. All three arguments are integers.\n",
    "\n",
    "\n",
    "Format: \n",
    "\n",
    "    convert(number, old_base, new_base)\n",
    "\n",
    "e.g. \n",
    "\n",
    "    convert(101, 2, 10) -> 5 \n",
    "    convert(5, 10, 2) -> 101"
   ]
  },
  {
   "cell_type": "code",
   "execution_count": null,
   "metadata": {},
   "outputs": [],
   "source": []
  },
  {
   "cell_type": "markdown",
   "metadata": {},
   "source": [
    "# 4\n",
    "### 5 points\n",
    "### Context\n",
    "Recall the hexadecimal base system, or base-16. There are not enough Arabic numerals to support base-16, so the first few letters of the alphabet are used instead of numbers for higher values:\n",
    "   \n",
    "    A : 10\n",
    "    B : 11\n",
    "    C : 12\n",
    "    D : 13\n",
    "    E : 14\n",
    "    F : 15\n",
    "    \n",
    "Conversion to and from the hexadecimal system relies on the same principle and process as lower bases. For instance: converting the hexadecimal number \"1A9\" to decimal:\n",
    "\n",
    "    # From hexadecimal:\n",
    "    # 1A9 == (1 * 16**2) + (A * 16**1) + (9 * 16**0) == 425\n",
    "    # 1A9 == (1 * 16**2) + (10 * 16**1) + (9 * 16**0) == 425\n",
    "    \n",
    "### Required\n",
    "Write a function that takes a single argument, a number in hexadecimal (string). The function should output the number in decimal (int). You only need to consider hexadecimal to decimal, not the other way around.\n",
    "\n",
    "e.g. \n",
    "\n",
    "    hex_convert(\"FF\") -> 255"
   ]
  },
  {
   "cell_type": "code",
   "execution_count": 54,
   "metadata": {},
   "outputs": [
    {
     "data": {
      "text/plain": [
       "'F'"
      ]
     },
     "execution_count": 54,
     "metadata": {},
     "output_type": "execute_result"
    }
   ],
   "source": [
    "def hexConvert1(x):\n",
    "    if(char==\"F\"):\n",
    "        print(15)\n",
    "    return x[0]\n",
    "\n",
    "hexConvert1(\"FF\")"
   ]
  },
  {
   "cell_type": "code",
   "execution_count": 50,
   "metadata": {},
   "outputs": [
    {
     "name": "stdout",
     "output_type": "stream",
     "text": [
      "1\n",
      "10\n",
      "9\n"
     ]
    }
   ],
   "source": [
    "for char in (\"1A9\"):\n",
    "    if(char==\"A\"):\n",
    "        print(10)\n",
    "    elif(char==\"B\"):\n",
    "        print(11)\n",
    "    elif(char==\"C\"):\n",
    "        print(12)\n",
    "    elif(char==\"D\"):\n",
    "        print(13)\n",
    "    elif(char==\"E\"):\n",
    "        print(14)\n",
    "    elif(char==\"F\"):\n",
    "        print(15)\n",
    "    else:\n",
    "        print(char)"
   ]
  },
  {
   "cell_type": "code",
   "execution_count": 40,
   "metadata": {
    "scrolled": false
   },
   "outputs": [
    {
     "data": {
      "text/plain": [
       "255"
      ]
     },
     "execution_count": 40,
     "metadata": {},
     "output_type": "execute_result"
    }
   ],
   "source": [
    "int(\"FF\",16)"
   ]
  }
 ],
 "metadata": {
  "kernelspec": {
   "display_name": "Python 3",
   "language": "python",
   "name": "python3"
  },
  "language_info": {
   "codemirror_mode": {
    "name": "ipython",
    "version": 3
   },
   "file_extension": ".py",
   "mimetype": "text/x-python",
   "name": "python",
   "nbconvert_exporter": "python",
   "pygments_lexer": "ipython3",
   "version": "3.7.3"
  }
 },
 "nbformat": 4,
 "nbformat_minor": 2
}
