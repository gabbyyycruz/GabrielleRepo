{
 "cells": [
  {
   "cell_type": "markdown",
   "metadata": {},
   "source": [
    "# ITMGT 25.03 EE\n",
    "# Assignment 3B\n",
    "\n",
    "This is a data-cleaning assignment and is the second of two parts. This notebook is uploaded to our Github repository along with a csv of fake, dirty data called **recweekdata.csv**.\n",
    "\n",
    "In addition, you have a new file called **studentprofiles.csv** which has first and last names plus the genders of the students.\n",
    "\n",
    "The output of this assignment is to convert recweekdata.csv into processable data for statistics. Submit the following files through GitHub:\n",
    "1. A cleaned recweekdata.csv called **cleanrecweekdata3b.csv** **(5 points)**\n",
    "2. This notebook, containing the code (properly commented) that you used to clean the data **(5 points)**\n",
    "3. An html file of summary statistics from each column called **stats3b.html**. The requirements for the summary statistics are described below. **(10 points)**\n",
    "\n",
    "The outputs are similar to that of Assignment 3A, except that you will now use Pandas instead of Python lists.\n",
    "\n",
    "This entire assignment (3B) is worth 20 points.\n",
    "\n",
    "Upload your output files to your Github repositories. Make sure to send an email to **joben.ilagan@gmail.com** once you're done.\n",
    "\n",
    "This assignment is due on **Monday, July 9, 2019** at 12:00NN.\n",
    "\n",
    "Note: I understand you all need to review for LT 2. Think of this Assignment as practice. It's not meant to take you as long as 3A.\n",
    "\n",
    "#### Bonus Points:\n",
    "* +2 if submitted over (or before) the weekend (July 13-14)\n",
    "* +2 if CSS and div tags are used (but please don't spend too much time on this because you still need to review for the Long Test)"
   ]
  },
  {
   "cell_type": "code",
   "execution_count": 1,
   "metadata": {},
   "outputs": [],
   "source": [
    "# Summary:\n",
    "\n",
    "# 8 columns:\n",
    "    # columns to be left alone: firstname (1), lastname (2), birthday (4), gender (8)\n",
    "    # columns to be cleaned: birthmonth (3), birthyear (5), course (6), phonenumber (7)\n",
    "\n",
    "# column names:\n",
    "    # firstname = \"fname\"\n",
    "    # lastname = \"lastname\"\n",
    "    # birthmonth = \"bmonths\"\n",
    "    # birthday = \"bdays\"\n",
    "    # birthyear = \"newyears\"\n",
    "    # course = \"courses\"\n",
    "    # phonenumber = \"newnumbers\"\n",
    "    # gender = \"gender\"\n",
    "    \n",
    "# dictionaries for HTML file:\n",
    "    # birthmonth = \"bmonthscount\"\n",
    "    # birthday = \"bdayscount\"\n",
    "    # birthyear = \"newyearscount\"\n",
    "    # course = \"coursescount\""
   ]
  },
  {
   "cell_type": "markdown",
   "metadata": {},
   "source": [
    "## Data Cleansing"
   ]
  },
  {
   "cell_type": "code",
   "execution_count": 2,
   "metadata": {},
   "outputs": [],
   "source": [
    "import csv\n",
    "import re\n",
    "import pandas as pd"
   ]
  },
  {
   "cell_type": "code",
   "execution_count": 3,
   "metadata": {},
   "outputs": [],
   "source": [
    "df = pd.read_csv(\"recweekdata.csv\")"
   ]
  },
  {
   "cell_type": "code",
   "execution_count": 4,
   "metadata": {},
   "outputs": [],
   "source": [
    "# COLUMN 1: FIRSTNAME\n",
    "\n",
    "fname = df.loc[:,\"firstname\"]"
   ]
  },
  {
   "cell_type": "code",
   "execution_count": 5,
   "metadata": {},
   "outputs": [],
   "source": [
    "# COLUMN 2: LASTNAME\n",
    "\n",
    "lastname = df.loc[:,\"lastname\"]"
   ]
  },
  {
   "cell_type": "code",
   "execution_count": 6,
   "metadata": {},
   "outputs": [],
   "source": [
    "# COLUMN 3: BIRTHMONTH\n",
    "\n",
    "bmonths = df.loc[:,\"birthmonth\"]\n",
    "\n",
    "bmonths = bmonths.astype(str).str.replace(r\"(^1$|^Jan$)\",\"January\")\n",
    "bmonths = bmonths.astype(str).str.replace(r\"(^2$|^Feb$)\",\"February\")\n",
    "bmonths = bmonths.astype(str).str.replace(r\"(^3$|^Mar$)\",\"March\")\n",
    "bmonths = bmonths.astype(str).str.replace(r\"(^4$|^Apr$)\",\"April\")\n",
    "bmonths = bmonths.astype(str).str.replace(r\"^5$\",\"May\")\n",
    "bmonths = bmonths.astype(str).str.replace(r\"(^6$|^Jun$)\",\"June\")\n",
    "bmonths = bmonths.astype(str).str.replace(r\"(^7$|^Jul$)\",\"July\")\n",
    "bmonths = bmonths.astype(str).str.replace(r\"(^8$|^Aug$)\",\"August\")\n",
    "bmonths = bmonths.astype(str).str.replace(r\"(^9$|^Sep$)\",\"September\")\n",
    "bmonths = bmonths.astype(str).str.replace(r\"(^10$|^Oct$)\",\"October\")\n",
    "bmonths = bmonths.astype(str).str.replace(r\"(^11$|^Nov$)\",\"November\")\n",
    "bmonths = bmonths.astype(str).str.replace(r\"(^12$|^Dec$)\",\"December\")"
   ]
  },
  {
   "cell_type": "code",
   "execution_count": 7,
   "metadata": {},
   "outputs": [
    {
     "name": "stdout",
     "output_type": "stream",
     "text": [
      "{'January', 'April', 'June', 'September', 'October', 'March', 'February', 'May', 'July', 'August', 'November', 'December'}\n"
     ]
    }
   ],
   "source": [
    "# double-checking replaced birth month values\n",
    "\n",
    "bmonths2 = set(bmonths)\n",
    "\n",
    "print(bmonths2)"
   ]
  },
  {
   "cell_type": "code",
   "execution_count": 8,
   "metadata": {},
   "outputs": [],
   "source": [
    "# COLUMN 4: BIRTHDAY\n",
    "\n",
    "bdays = df.loc[:,\"birthday\"]"
   ]
  },
  {
   "cell_type": "code",
   "execution_count": 9,
   "metadata": {},
   "outputs": [],
   "source": [
    "# COLUMN 5: BIRTHYEAR\n",
    "\n",
    "newyears = df.loc[:,\"birthyear\"]\n",
    "\n",
    "newyears = newyears.astype(str).str.replace(r\"^97$\",\"1997\")\n",
    "newyears = newyears.astype(str).str.replace(r\"^98$\",\"1998\")\n",
    "newyears = newyears.astype(str).str.replace(r\"^99$\",\"1999\")"
   ]
  },
  {
   "cell_type": "code",
   "execution_count": 10,
   "metadata": {},
   "outputs": [
    {
     "name": "stdout",
     "output_type": "stream",
     "text": [
      "{'1999', '2000', '1997', '1998', '2001'}\n"
     ]
    }
   ],
   "source": [
    "# double-checking replaced birth year values\n",
    "\n",
    "newyears2 = set(newyears)\n",
    "\n",
    "print(newyears2)"
   ]
  },
  {
   "cell_type": "code",
   "execution_count": 11,
   "metadata": {},
   "outputs": [],
   "source": [
    "# COLUMN 6: COURSES\n",
    "\n",
    "courses = df.loc[:,\"course\"]\n",
    "\n",
    "courses = courses.str.replace(r\"(^LM$|BS LM|Legal Management)\",\"BS Legal Management\")\n",
    "courses = courses.str.replace(r\"(^ITE$|BS ITE|Information Technology Entrepreneurship)\",\"BS Information Technology Entrepreneurship\")\n",
    "courses = courses.str.replace(r\"(^ME$|BS ME|Management Engineering)\",\"BS Management Engineering\")\n",
    "courses = courses.str.replace(r\"(^MGT$|BS MGT|^Management$)\",\"BS Management\")\n",
    "courses = courses.str.replace(r\"^CTM$|BS CTM|Communications Technology\",\"BS Communications Technology\")"
   ]
  },
  {
   "cell_type": "code",
   "execution_count": 12,
   "metadata": {},
   "outputs": [
    {
     "name": "stdout",
     "output_type": "stream",
     "text": [
      "{'BS Management', 'BS Communications Technology', 'BS Legal Management', 'BS Management Engineering', 'BS Information Technology Entrepreneurship'}\n"
     ]
    }
   ],
   "source": [
    "# double-checking replaced course values\n",
    "\n",
    "courses2 = set(courses)\n",
    "print(courses2)"
   ]
  },
  {
   "cell_type": "code",
   "execution_count": 13,
   "metadata": {},
   "outputs": [],
   "source": [
    "# COLUMN 7: PHONENUMBER\n",
    "\n",
    "newnumbers = df.loc[:,\"phonenumber\"]\n",
    "\n",
    "newnumbers = newnumbers.astype(str).str.replace(r\"(^\\+63 )\",\"\")\n",
    "newnumbers = newnumbers.astype(str).str.replace(r\"^9\",\"09\")"
   ]
  },
  {
   "cell_type": "code",
   "execution_count": 14,
   "metadata": {},
   "outputs": [],
   "source": [
    "df2 = pd.read_csv(\"studentprofiles.csv\")"
   ]
  },
  {
   "cell_type": "code",
   "execution_count": 15,
   "metadata": {},
   "outputs": [],
   "source": [
    "# COLUMN 8: GENDER; also added to \"cleanrecweekdata3b.csv\"\n",
    "\n",
    "gender = df2.loc[:,\"gender\"]"
   ]
  },
  {
   "cell_type": "code",
   "execution_count": 17,
   "metadata": {},
   "outputs": [],
   "source": [
    "import pandas\n",
    "\n",
    "finalDF = pandas.DataFrame(data={\"firstname\": fname, \"lastname\": lastname,\"birthmonth\": bmonths, \"birthday\": bdays,\n",
    "                                 \"birthyear\": newyears, \"course\": courses, \"phonenumber\": newnumbers,\n",
    "                                \"gender\":gender})\n",
    "finalDF.to_csv(\"cleanrecweekdata3b.csv\", sep=',',index=False)"
   ]
  },
  {
   "cell_type": "markdown",
   "metadata": {},
   "source": [
    "## HTML"
   ]
  },
  {
   "cell_type": "code",
   "execution_count": 73,
   "metadata": {},
   "outputs": [],
   "source": [
    "# converting birth month values to dictionary\n",
    "\n",
    "bmonthscount0 = bmonths.value_counts().to_dict() "
   ]
  },
  {
   "cell_type": "code",
   "execution_count": 74,
   "metadata": {},
   "outputs": [],
   "source": [
    "# creating a dictionary of sorted birth months\n",
    "\n",
    "bmonthscount1 = [\"January\",\"February\",\"March\",\"April\",\"May\",\"June\",\"July\",\"August\",\n",
    "                \"September\",\"October\",\"November\",\"December\"]\n",
    "\n",
    "bmonthscount = dict()\n",
    "\n",
    "for month in bmonthscount1:\n",
    "    bmonthscount[month]=bmonthscount0[month]"
   ]
  },
  {
   "cell_type": "code",
   "execution_count": 148,
   "metadata": {},
   "outputs": [
    {
     "data": {
      "text/plain": [
       "{'January': 270,\n",
       " 'February': 232,\n",
       " 'March': 246,\n",
       " 'April': 267,\n",
       " 'May': 273,\n",
       " 'June': 259,\n",
       " 'July': 249,\n",
       " 'August': 241,\n",
       " 'September': 232,\n",
       " 'October': 178,\n",
       " 'November': 277,\n",
       " 'December': 276}"
      ]
     },
     "execution_count": 148,
     "metadata": {},
     "output_type": "execute_result"
    }
   ],
   "source": [
    "# double-checking\n",
    "\n",
    "bmonthscount"
   ]
  },
  {
   "cell_type": "markdown",
   "metadata": {},
   "source": [
    "# Required Summary Statistics\n",
    "\n",
    "#### These were the questions from 3A:\n",
    "\n",
    "1. How many people were born in each month?\n",
    "2. How many people were born on each day?\n",
    "3. How many people were born in each year?\n",
    "4. How many people come from each course?\n",
    "5. How many people have numbers from Globe (0917 or 0927) and Smart (0918)? *Note: it's up to you how to format this output*\n",
    "\n",
    "#### Additional Questions:\n",
    "* How many Globe subscribers are: Male? Female?\n",
    "* How many Smart subscribers are: Male? Female?\n",
    "\n",
    "Answer these questions in an html file called **stats3b.html**. The format of the html is as follows (in template form, so you can use this as format string in your program, though feel free to modify with variable names if you find it easier to do so):\n"
   ]
  },
  {
   "cell_type": "markdown",
   "metadata": {},
   "source": [
    "```\n",
    "<html>\n",
    "    <body>\n",
    "         <h2>Summary Statistics</h2>\n",
    "         <table>\n",
    "             <tr><th>Stat</th><th>Value</th></tr>\n",
    "             <tr><td>People born in each month</td><td>{}</td></tr>\n",
    "             <tr><td>People born on each day</td><td>{}</td></tr>\n",
    "             <tr><td>People born in each year</td><td>{}</td></tr>\n",
    "             <tr><td>People coming from each course</td><td>{}</td></tr>\n",
    "             <tr><td>People having numbers from Globe and Smart</td><td>{}</td></tr>\n",
    "             <tr><td>Male Globe subscribers:</td><td>{}</td></tr>\n",
    "             <tr><td>Female Globe subscribers:</td><td>{}</td></tr>\n",
    "             <tr><td>Male Smart subscribers:</td><td>{}</td></tr>\n",
    "             <tr><td>Female Smart subscribers:</td><td>{}</td></tr>\n",
    "         </table>\n",
    "    </body>\n",
    "</html>\n",
    "```"
   ]
  },
  {
   "cell_type": "code",
   "execution_count": null,
   "metadata": {},
   "outputs": [],
   "source": []
  }
 ],
 "metadata": {
  "kernelspec": {
   "display_name": "Python 3",
   "language": "python",
   "name": "python3"
  },
  "language_info": {
   "codemirror_mode": {
    "name": "ipython",
    "version": 3
   },
   "file_extension": ".py",
   "mimetype": "text/x-python",
   "name": "python",
   "nbconvert_exporter": "python",
   "pygments_lexer": "ipython3",
   "version": "3.7.3"
  }
 },
 "nbformat": 4,
 "nbformat_minor": 2
}
