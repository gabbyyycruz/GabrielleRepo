{
 "cells": [
  {
   "cell_type": "markdown",
   "metadata": {},
   "source": [
    "# ITMGT 25.03 EE\n",
    "### Assignment 1\n",
    "\n",
    "These exercises are designed to strengthen your grasp on basic programming concepts. Read what is required of you carefully.\n",
    "\n",
    "This assignment is only over 10 points, but there are 15 points available to earn from answering the questions. It will be credited to Class Participation, which will be over 200 for the entire semester.\n",
    "\n",
    "Rename the file to:\n",
    "\n",
    "Lastname_Assignment_1.ipynb\n",
    "\n",
    "Send to my email account: joben.ilagan@gmail.com. \n",
    "Attach the file or create a Dropbox link. \n",
    "The deadline is Tuesday, 18 June 2019, 12:00 nn.\n",
    "\n",
    "You may earn another 2 bonus points for figuring out GitHub and linking me to your repository in your email. (This brings the absolute maximum possible grade for this assignment to 17/10.)"
   ]
  },
  {
   "cell_type": "markdown",
   "metadata": {},
   "source": [
    "# 1\n",
    "### 1 point\n",
    "\n",
    "Write a function that takes the circumference of a circle as a parameter and **returns** the area of that circle."
   ]
  },
  {
   "cell_type": "code",
   "execution_count": 1,
   "metadata": {},
   "outputs": [
    {
     "data": {
      "text/plain": [
       "78.5602013246787"
      ]
     },
     "execution_count": 1,
     "metadata": {},
     "output_type": "execute_result"
    }
   ],
   "source": [
    "def CircumferenceToArea(x):\n",
    "    return ((x/(2*3.141592))**2)*3.141592\n",
    "            \n",
    "CircumferenceToArea(31.42) \n",
    "# cross-checking with classroom exercise"
   ]
  },
  {
   "cell_type": "markdown",
   "metadata": {},
   "source": [
    "# 2\n",
    "### 2 points\n",
    "\n",
    "Write a function that takes a 5-character string as a parameter and **returns** the string in reverse order.\n",
    "\n",
    "e.g. reverseString(\"Hello\") -> \"olleH\""
   ]
  },
  {
   "cell_type": "code",
   "execution_count": 1,
   "metadata": {},
   "outputs": [
    {
     "ename": "NameError",
     "evalue": "name 'string' is not defined",
     "output_type": "error",
     "traceback": [
      "\u001b[0;31m---------------------------------------------------------------------------\u001b[0m",
      "\u001b[0;31mNameError\u001b[0m                                 Traceback (most recent call last)",
      "\u001b[0;32m<ipython-input-1-deb6fba851df>\u001b[0m in \u001b[0;36m<module>\u001b[0;34m\u001b[0m\n\u001b[1;32m      6\u001b[0m     \u001b[0;31m# joining characters in reverse order\u001b[0m\u001b[0;34m\u001b[0m\u001b[0;34m\u001b[0m\u001b[0;34m\u001b[0m\u001b[0m\n\u001b[1;32m      7\u001b[0m \u001b[0;34m\u001b[0m\u001b[0m\n\u001b[0;32m----> 8\u001b[0;31m \u001b[0mreverseString\u001b[0m\u001b[0;34m(\u001b[0m\u001b[0mstring\u001b[0m\u001b[0;34m)\u001b[0m\u001b[0;34m\u001b[0m\u001b[0;34m\u001b[0m\u001b[0m\n\u001b[0m",
      "\u001b[0;31mNameError\u001b[0m: name 'string' is not defined"
     ]
    }
   ],
   "source": [
    "def reverseString(x):\n",
    "    string = \"Hello\"\n",
    "    # defining the string\n",
    "    \n",
    "    return print(string[4]+string[3]+string[2]+string[1]+string[0]) \n",
    "    # joining characters in reverse order\n",
    "\n",
    "reverseString(string)"
   ]
  },
  {
   "cell_type": "markdown",
   "metadata": {},
   "source": [
    "# 3\n",
    "### 2 points\n",
    "\n",
    "Write a function that takes a positive integer as input and **returns** the sum of all positive integers smaller than and including the number itself.\n",
    "\n",
    "e.g. backAddition(5) -> 1 + 2 + 3 + 4 + 5 -> 15"
   ]
  },
  {
   "cell_type": "code",
   "execution_count": null,
   "metadata": {},
   "outputs": [],
   "source": [
    "def backwardAddition(x):\n",
    "    return sum(range(1,x))+x\n",
    "    # addition of another x due to Python starting from 0\n",
    "\n",
    "backwardAddition(5)"
   ]
  },
  {
   "cell_type": "markdown",
   "metadata": {},
   "source": [
    "# 4\n",
    "### 3 points\n",
    "\n",
    "Write a function that does the following:\n",
    "1. The function iterates through each number from 1 to 100. Print each number.\n",
    "2. If the number is divisible by 3, instead of the number, print \"Fizz\"\n",
    "3. If the number is divisible by 5, instead of the number, print \"Buzz\"\n",
    "4. If the number is divisible by both 3 and 5, instead of the number, print \"FizzBuzz\"\n",
    "\n",
    "e.g.\n",
    "\n",
    "1\n",
    "\n",
    "2\n",
    "\n",
    "Fizz\n",
    "\n",
    "4\n",
    "\n",
    "Buzz\n",
    "\n",
    "Fizz\n",
    "\n",
    "...\n",
    "\n",
    "14\n",
    "\n",
    "FizzBuzz\n",
    "\n",
    "16\n",
    "\n",
    "17\n",
    "\n",
    "..."
   ]
  },
  {
   "cell_type": "code",
   "execution_count": null,
   "metadata": {},
   "outputs": [],
   "source": [
    "for number in range(1,101):\n",
    "# to include all numbers from 1 to 100\n",
    "    if((number%15)==0):\n",
    "    # if remainder is 0, given number is divisible\n",
    "        print(\"FizzBuzz\")\n",
    "        continue\n",
    "    elif((number%3==0)):\n",
    "        print(\"Fizz\")\n",
    "        continue\n",
    "    elif((number%5==0)):\n",
    "        print(\"Buzz\")\n",
    "        continue\n",
    "    else:\n",
    "        print(number)"
   ]
  },
  {
   "cell_type": "markdown",
   "metadata": {},
   "source": [
    "# 5\n",
    "### 2 points\n",
    "\n",
    "Each new term in the Fibonacci sequence is generated by adding the previous two terms. By starting with 1 and 2, the first 10 terms will be:\n",
    "\n",
    "1, 2, 3, 5, 8, 13, 21, 34, 55, 89, ...\n",
    "\n",
    "By considering the terms in the Fibonacci sequence whose values do not exceed four million, using programming, find the sum of the even-valued terms."
   ]
  },
  {
   "cell_type": "code",
   "execution_count": null,
   "metadata": {},
   "outputs": [],
   "source": [
    "# trial to see if formula works \n",
    "# even-valued terms in the Fibonacci sequence less than 40 = [2,8,34]:\n",
    "    # 2+8+34=44\n",
    "\n",
    "x = 1\n",
    "y = 2\n",
    "sum = 0\n",
    "\n",
    "while(y<=40):\n",
    "    if y%2==0:\n",
    "        sum+=y\n",
    "    # adding the total so far\n",
    "    z=x+y\n",
    "    # a term in the Fibonacci sequence is the sum of the two numbers preceding it\n",
    "    x,y=y,z\n",
    "    \n",
    "sum"
   ]
  },
  {
   "cell_type": "code",
   "execution_count": null,
   "metadata": {},
   "outputs": [],
   "source": [
    "# conclusion: formula above works ^^"
   ]
  },
  {
   "cell_type": "code",
   "execution_count": null,
   "metadata": {},
   "outputs": [],
   "source": [
    "# final function\n",
    "\n",
    "x = 1\n",
    "y = 2\n",
    "sum = 0\n",
    "\n",
    "while(y<=4000000):\n",
    "    if y%2==0:\n",
    "        sum+=y\n",
    "    z=x+y\n",
    "    x,y=y,z\n",
    "    \n",
    "sum"
   ]
  },
  {
   "cell_type": "markdown",
   "metadata": {},
   "source": [
    "# 6\n",
    "### 5 points (all or nothing)\n",
    "\n",
    "The sum of the squares of the first ten natural numbers is,\n",
    "12 + 22 + ... + 102 = 385\n",
    "\n",
    "The square of the sum of the first ten natural numbers is,\n",
    "(1 + 2 + ... + 10)2 = 552 = 3025\n",
    "\n",
    "Hence the difference between the sum of the squares of the first ten natural numbers and the square of the sum is 3025 − 385 = 2640.\n",
    "\n",
    "Find the difference between the sum of the squares of the first one hundred natural numbers and the square of the sum.\n",
    "\n",
    "Show code that generates the answer."
   ]
  },
  {
   "cell_type": "code",
   "execution_count": null,
   "metadata": {},
   "outputs": [],
   "source": [
    "def sumOfSquares(x):\n",
    "    return sum([i**2 for i in range(1, x+1)])\n",
    "    # square of each number from [1,101) summed up\n",
    "\n",
    "def squareOfSum(x):\n",
    "    return sum(range(1, x+1))**2\n",
    "    # sum of numbers from [1,101) squared\n",
    "\n",
    "squareOfSum(100) - sumOfSquares(100)"
   ]
  }
 ],
 "metadata": {
  "kernelspec": {
   "display_name": "Python 3",
   "language": "python",
   "name": "python3"
  },
  "language_info": {
   "codemirror_mode": {
    "name": "ipython",
    "version": 3
   },
   "file_extension": ".py",
   "mimetype": "text/x-python",
   "name": "python",
   "nbconvert_exporter": "python",
   "pygments_lexer": "ipython3",
   "version": "3.7.3"
  }
 },
 "nbformat": 4,
 "nbformat_minor": 2
}
